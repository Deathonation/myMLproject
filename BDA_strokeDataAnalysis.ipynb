{
  "nbformat": 4,
  "nbformat_minor": 0,
  "metadata": {
    "kernelspec": {
      "language": "python",
      "display_name": "Python 3",
      "name": "python3"
    },
    "language_info": {
      "name": "python",
      "version": "3.7.9",
      "mimetype": "text/x-python",
      "codemirror_mode": {
        "name": "ipython",
        "version": 3
      },
      "pygments_lexer": "ipython3",
      "nbconvert_exporter": "python",
      "file_extension": ".py"
    },
    "colab": {
      "name": "BDA_strokeDataAnalysis.ipynb",
      "provenance": [],
      "collapsed_sections": [
        "WMWPGRFcjEQW"
      ],
      "include_colab_link": true
    }
  },
  "cells": [
    {
      "cell_type": "markdown",
      "metadata": {
        "id": "view-in-github",
        "colab_type": "text"
      },
      "source": [
        "<a href=\"https://colab.research.google.com/github/Deathonation/myMLproject/blob/main/BDA_strokeDataAnalysis.ipynb\" target=\"_parent\"><img src=\"https://colab.research.google.com/assets/colab-badge.svg\" alt=\"Open In Colab\"/></a>"
      ]
    },
    {
      "cell_type": "code",
      "metadata": {
        "execution": {
          "iopub.status.busy": "2021-10-07T11:03:23.363806Z",
          "iopub.execute_input": "2021-10-07T11:03:23.364395Z",
          "iopub.status.idle": "2021-10-07T11:03:24.830558Z",
          "shell.execute_reply.started": "2021-10-07T11:03:23.364300Z",
          "shell.execute_reply": "2021-10-07T11:03:24.829646Z"
        },
        "trusted": true,
        "id": "4h5zNoHAjEP2"
      },
      "source": [
        "import pandas as pd\n",
        "import numpy as np\n",
        "import matplotlib.pyplot as plt\n",
        "import seaborn as sns\n",
        "np.set_printoptions(precision=4)\n",
        "from sklearn.metrics import accuracy_score, recall_score, precision_score,f1_score, confusion_matrix\n",
        "from sklearn.inspection import permutation_importance\n",
        "from sklearn.model_selection import train_test_split\n",
        "from sklearn.preprocessing import StandardScaler \n",
        "import warnings\n",
        "warnings.filterwarnings('ignore')\n",
        "from sklearn.impute import KNNImputer\n",
        "\n",
        "# from sklearn.linear_model import LogisticRegression\n",
        "# from sklearn.neighbors import KNeighborsClassifier\n",
        "# from sklearn.tree import DecisionTreeClassifier\n",
        "# from sklearn.svm import LinearSVC, SVC"
      ],
      "execution_count": 507,
      "outputs": []
    },
    {
      "cell_type": "code",
      "metadata": {
        "colab": {
          "base_uri": "https://localhost:8080/"
        },
        "id": "DTXeVvEkjTV-",
        "outputId": "d64f3d61-abd7-40d0-c2a9-d5ff515a7887"
      },
      "source": [
        "from google.colab import drive\n",
        "drive.mount('/content/drive')"
      ],
      "execution_count": 508,
      "outputs": [
        {
          "output_type": "stream",
          "name": "stdout",
          "text": [
            "Drive already mounted at /content/drive; to attempt to forcibly remount, call drive.mount(\"/content/drive\", force_remount=True).\n"
          ]
        }
      ]
    },
    {
      "cell_type": "code",
      "metadata": {
        "execution": {
          "iopub.status.busy": "2021-10-07T11:03:24.832807Z",
          "iopub.execute_input": "2021-10-07T11:03:24.833239Z",
          "iopub.status.idle": "2021-10-07T11:03:24.900089Z",
          "shell.execute_reply.started": "2021-10-07T11:03:24.833195Z",
          "shell.execute_reply": "2021-10-07T11:03:24.899049Z"
        },
        "trusted": true,
        "colab": {
          "base_uri": "https://localhost:8080/",
          "height": 203
        },
        "id": "hl1IJzJ0jEP9",
        "outputId": "f2a8a26f-3525-405e-e638-03e73e1a0cf9"
      },
      "source": [
        "df1 = pd.read_csv('/content/drive/MyDrive/KAGGLE/stroke kaggle/healthcare-dataset-stroke-data.csv')\n",
        "df1.head(5)"
      ],
      "execution_count": 509,
      "outputs": [
        {
          "output_type": "execute_result",
          "data": {
            "text/html": [
              "<div>\n",
              "<style scoped>\n",
              "    .dataframe tbody tr th:only-of-type {\n",
              "        vertical-align: middle;\n",
              "    }\n",
              "\n",
              "    .dataframe tbody tr th {\n",
              "        vertical-align: top;\n",
              "    }\n",
              "\n",
              "    .dataframe thead th {\n",
              "        text-align: right;\n",
              "    }\n",
              "</style>\n",
              "<table border=\"1\" class=\"dataframe\">\n",
              "  <thead>\n",
              "    <tr style=\"text-align: right;\">\n",
              "      <th></th>\n",
              "      <th>id</th>\n",
              "      <th>gender</th>\n",
              "      <th>age</th>\n",
              "      <th>hypertension</th>\n",
              "      <th>heart_disease</th>\n",
              "      <th>ever_married</th>\n",
              "      <th>work_type</th>\n",
              "      <th>Residence_type</th>\n",
              "      <th>avg_glucose_level</th>\n",
              "      <th>bmi</th>\n",
              "      <th>smoking_status</th>\n",
              "      <th>stroke</th>\n",
              "    </tr>\n",
              "  </thead>\n",
              "  <tbody>\n",
              "    <tr>\n",
              "      <th>0</th>\n",
              "      <td>9046</td>\n",
              "      <td>Male</td>\n",
              "      <td>67.0</td>\n",
              "      <td>0</td>\n",
              "      <td>1</td>\n",
              "      <td>Yes</td>\n",
              "      <td>Private</td>\n",
              "      <td>Urban</td>\n",
              "      <td>228.69</td>\n",
              "      <td>36.6</td>\n",
              "      <td>formerly smoked</td>\n",
              "      <td>1</td>\n",
              "    </tr>\n",
              "    <tr>\n",
              "      <th>1</th>\n",
              "      <td>51676</td>\n",
              "      <td>Female</td>\n",
              "      <td>61.0</td>\n",
              "      <td>0</td>\n",
              "      <td>0</td>\n",
              "      <td>Yes</td>\n",
              "      <td>Self-employed</td>\n",
              "      <td>Rural</td>\n",
              "      <td>202.21</td>\n",
              "      <td>NaN</td>\n",
              "      <td>never smoked</td>\n",
              "      <td>1</td>\n",
              "    </tr>\n",
              "    <tr>\n",
              "      <th>2</th>\n",
              "      <td>31112</td>\n",
              "      <td>Male</td>\n",
              "      <td>80.0</td>\n",
              "      <td>0</td>\n",
              "      <td>1</td>\n",
              "      <td>Yes</td>\n",
              "      <td>Private</td>\n",
              "      <td>Rural</td>\n",
              "      <td>105.92</td>\n",
              "      <td>32.5</td>\n",
              "      <td>never smoked</td>\n",
              "      <td>1</td>\n",
              "    </tr>\n",
              "    <tr>\n",
              "      <th>3</th>\n",
              "      <td>60182</td>\n",
              "      <td>Female</td>\n",
              "      <td>49.0</td>\n",
              "      <td>0</td>\n",
              "      <td>0</td>\n",
              "      <td>Yes</td>\n",
              "      <td>Private</td>\n",
              "      <td>Urban</td>\n",
              "      <td>171.23</td>\n",
              "      <td>34.4</td>\n",
              "      <td>smokes</td>\n",
              "      <td>1</td>\n",
              "    </tr>\n",
              "    <tr>\n",
              "      <th>4</th>\n",
              "      <td>1665</td>\n",
              "      <td>Female</td>\n",
              "      <td>79.0</td>\n",
              "      <td>1</td>\n",
              "      <td>0</td>\n",
              "      <td>Yes</td>\n",
              "      <td>Self-employed</td>\n",
              "      <td>Rural</td>\n",
              "      <td>174.12</td>\n",
              "      <td>24.0</td>\n",
              "      <td>never smoked</td>\n",
              "      <td>1</td>\n",
              "    </tr>\n",
              "  </tbody>\n",
              "</table>\n",
              "</div>"
            ],
            "text/plain": [
              "      id  gender   age  ...   bmi   smoking_status stroke\n",
              "0   9046    Male  67.0  ...  36.6  formerly smoked      1\n",
              "1  51676  Female  61.0  ...   NaN     never smoked      1\n",
              "2  31112    Male  80.0  ...  32.5     never smoked      1\n",
              "3  60182  Female  49.0  ...  34.4           smokes      1\n",
              "4   1665  Female  79.0  ...  24.0     never smoked      1\n",
              "\n",
              "[5 rows x 12 columns]"
            ]
          },
          "metadata": {},
          "execution_count": 509
        }
      ]
    },
    {
      "cell_type": "code",
      "metadata": {
        "execution": {
          "iopub.status.busy": "2021-10-07T11:03:24.901421Z",
          "iopub.execute_input": "2021-10-07T11:03:24.901725Z",
          "iopub.status.idle": "2021-10-07T11:03:24.916984Z",
          "shell.execute_reply.started": "2021-10-07T11:03:24.901698Z",
          "shell.execute_reply": "2021-10-07T11:03:24.916045Z"
        },
        "trusted": true,
        "colab": {
          "base_uri": "https://localhost:8080/",
          "height": 142
        },
        "id": "82VyMCYVjEP-",
        "outputId": "9656fdd1-152b-40d1-91ae-b770b8e24569"
      },
      "source": [
        "df[['gender','id']].groupby(['gender']).count()"
      ],
      "execution_count": 510,
      "outputs": [
        {
          "output_type": "execute_result",
          "data": {
            "text/html": [
              "<div>\n",
              "<style scoped>\n",
              "    .dataframe tbody tr th:only-of-type {\n",
              "        vertical-align: middle;\n",
              "    }\n",
              "\n",
              "    .dataframe tbody tr th {\n",
              "        vertical-align: top;\n",
              "    }\n",
              "\n",
              "    .dataframe thead th {\n",
              "        text-align: right;\n",
              "    }\n",
              "</style>\n",
              "<table border=\"1\" class=\"dataframe\">\n",
              "  <thead>\n",
              "    <tr style=\"text-align: right;\">\n",
              "      <th></th>\n",
              "      <th>id</th>\n",
              "    </tr>\n",
              "    <tr>\n",
              "      <th>gender</th>\n",
              "      <th></th>\n",
              "    </tr>\n",
              "  </thead>\n",
              "  <tbody>\n",
              "    <tr>\n",
              "      <th>Female</th>\n",
              "      <td>2994</td>\n",
              "    </tr>\n",
              "    <tr>\n",
              "      <th>Male</th>\n",
              "      <td>2115</td>\n",
              "    </tr>\n",
              "  </tbody>\n",
              "</table>\n",
              "</div>"
            ],
            "text/plain": [
              "          id\n",
              "gender      \n",
              "Female  2994\n",
              "Male    2115"
            ]
          },
          "metadata": {},
          "execution_count": 510
        }
      ]
    },
    {
      "cell_type": "code",
      "metadata": {
        "execution": {
          "iopub.status.busy": "2021-10-07T11:03:24.918551Z",
          "iopub.execute_input": "2021-10-07T11:03:24.918845Z",
          "iopub.status.idle": "2021-10-07T11:03:24.941787Z",
          "shell.execute_reply.started": "2021-10-07T11:03:24.918815Z",
          "shell.execute_reply": "2021-10-07T11:03:24.940692Z"
        },
        "trusted": true,
        "colab": {
          "base_uri": "https://localhost:8080/",
          "height": 203
        },
        "id": "Mi5u9qTQjEP_",
        "outputId": "a1a436a7-48c8-4f79-87de-2d03f4c62231"
      },
      "source": [
        "df = df[df['gender']!='Other']\n",
        "df.head(5)"
      ],
      "execution_count": 511,
      "outputs": [
        {
          "output_type": "execute_result",
          "data": {
            "text/html": [
              "<div>\n",
              "<style scoped>\n",
              "    .dataframe tbody tr th:only-of-type {\n",
              "        vertical-align: middle;\n",
              "    }\n",
              "\n",
              "    .dataframe tbody tr th {\n",
              "        vertical-align: top;\n",
              "    }\n",
              "\n",
              "    .dataframe thead th {\n",
              "        text-align: right;\n",
              "    }\n",
              "</style>\n",
              "<table border=\"1\" class=\"dataframe\">\n",
              "  <thead>\n",
              "    <tr style=\"text-align: right;\">\n",
              "      <th></th>\n",
              "      <th>id</th>\n",
              "      <th>gender</th>\n",
              "      <th>age</th>\n",
              "      <th>hypertension</th>\n",
              "      <th>heart_disease</th>\n",
              "      <th>ever_married</th>\n",
              "      <th>work_type</th>\n",
              "      <th>Residence_type</th>\n",
              "      <th>avg_glucose_level</th>\n",
              "      <th>bmi</th>\n",
              "      <th>smoking_status</th>\n",
              "      <th>stroke</th>\n",
              "    </tr>\n",
              "  </thead>\n",
              "  <tbody>\n",
              "    <tr>\n",
              "      <th>0</th>\n",
              "      <td>9046</td>\n",
              "      <td>Male</td>\n",
              "      <td>67.0</td>\n",
              "      <td>0</td>\n",
              "      <td>1</td>\n",
              "      <td>Yes</td>\n",
              "      <td>Private</td>\n",
              "      <td>Urban</td>\n",
              "      <td>228.69</td>\n",
              "      <td>36.600000</td>\n",
              "      <td>formerly smoked</td>\n",
              "      <td>1</td>\n",
              "    </tr>\n",
              "    <tr>\n",
              "      <th>1</th>\n",
              "      <td>51676</td>\n",
              "      <td>Female</td>\n",
              "      <td>61.0</td>\n",
              "      <td>0</td>\n",
              "      <td>0</td>\n",
              "      <td>Yes</td>\n",
              "      <td>Self-employed</td>\n",
              "      <td>Rural</td>\n",
              "      <td>202.21</td>\n",
              "      <td>30.471292</td>\n",
              "      <td>never smoked</td>\n",
              "      <td>1</td>\n",
              "    </tr>\n",
              "    <tr>\n",
              "      <th>2</th>\n",
              "      <td>31112</td>\n",
              "      <td>Male</td>\n",
              "      <td>80.0</td>\n",
              "      <td>0</td>\n",
              "      <td>1</td>\n",
              "      <td>Yes</td>\n",
              "      <td>Private</td>\n",
              "      <td>Rural</td>\n",
              "      <td>105.92</td>\n",
              "      <td>32.500000</td>\n",
              "      <td>never smoked</td>\n",
              "      <td>1</td>\n",
              "    </tr>\n",
              "    <tr>\n",
              "      <th>3</th>\n",
              "      <td>60182</td>\n",
              "      <td>Female</td>\n",
              "      <td>49.0</td>\n",
              "      <td>0</td>\n",
              "      <td>0</td>\n",
              "      <td>Yes</td>\n",
              "      <td>Private</td>\n",
              "      <td>Urban</td>\n",
              "      <td>171.23</td>\n",
              "      <td>34.400000</td>\n",
              "      <td>smokes</td>\n",
              "      <td>1</td>\n",
              "    </tr>\n",
              "    <tr>\n",
              "      <th>4</th>\n",
              "      <td>1665</td>\n",
              "      <td>Female</td>\n",
              "      <td>79.0</td>\n",
              "      <td>1</td>\n",
              "      <td>0</td>\n",
              "      <td>Yes</td>\n",
              "      <td>Self-employed</td>\n",
              "      <td>Rural</td>\n",
              "      <td>174.12</td>\n",
              "      <td>24.000000</td>\n",
              "      <td>never smoked</td>\n",
              "      <td>1</td>\n",
              "    </tr>\n",
              "  </tbody>\n",
              "</table>\n",
              "</div>"
            ],
            "text/plain": [
              "      id  gender   age  ...        bmi   smoking_status stroke\n",
              "0   9046    Male  67.0  ...  36.600000  formerly smoked      1\n",
              "1  51676  Female  61.0  ...  30.471292     never smoked      1\n",
              "2  31112    Male  80.0  ...  32.500000     never smoked      1\n",
              "3  60182  Female  49.0  ...  34.400000           smokes      1\n",
              "4   1665  Female  79.0  ...  24.000000     never smoked      1\n",
              "\n",
              "[5 rows x 12 columns]"
            ]
          },
          "metadata": {},
          "execution_count": 511
        }
      ]
    },
    {
      "cell_type": "code",
      "metadata": {
        "execution": {
          "iopub.status.busy": "2021-10-07T11:03:24.944486Z",
          "iopub.execute_input": "2021-10-07T11:03:24.944800Z",
          "iopub.status.idle": "2021-10-07T11:03:24.956289Z",
          "shell.execute_reply.started": "2021-10-07T11:03:24.944769Z",
          "shell.execute_reply": "2021-10-07T11:03:24.955334Z"
        },
        "trusted": true,
        "colab": {
          "base_uri": "https://localhost:8080/"
        },
        "id": "XCZoFySMjEQA",
        "outputId": "d9733849-e334-4398-d0f7-2e8c29dbf3ad"
      },
      "source": [
        "df.isnull().sum()"
      ],
      "execution_count": 512,
      "outputs": [
        {
          "output_type": "execute_result",
          "data": {
            "text/plain": [
              "id                   0\n",
              "gender               0\n",
              "age                  0\n",
              "hypertension         0\n",
              "heart_disease        0\n",
              "ever_married         0\n",
              "work_type            0\n",
              "Residence_type       0\n",
              "avg_glucose_level    0\n",
              "bmi                  0\n",
              "smoking_status       0\n",
              "stroke               0\n",
              "dtype: int64"
            ]
          },
          "metadata": {},
          "execution_count": 512
        }
      ]
    },
    {
      "cell_type": "code",
      "metadata": {
        "execution": {
          "iopub.status.busy": "2021-10-07T11:03:24.959308Z",
          "iopub.execute_input": "2021-10-07T11:03:24.959651Z",
          "iopub.status.idle": "2021-10-07T11:03:24.982924Z",
          "shell.execute_reply.started": "2021-10-07T11:03:24.959615Z",
          "shell.execute_reply": "2021-10-07T11:03:24.982214Z"
        },
        "trusted": true,
        "colab": {
          "base_uri": "https://localhost:8080/"
        },
        "id": "24C_vW7JjEQA",
        "outputId": "002d2c0e-65ea-4ccf-ef8f-c5cf00455b2e"
      },
      "source": [
        "mean_bmi_has_stroke = df[df['stroke']==1]['bmi'].mean()\n",
        "mean_bmi_has_stroke"
      ],
      "execution_count": 513,
      "outputs": [
        {
          "output_type": "execute_result",
          "data": {
            "text/plain": [
              "30.47129186602873"
            ]
          },
          "metadata": {},
          "execution_count": 513
        }
      ]
    },
    {
      "cell_type": "code",
      "metadata": {
        "execution": {
          "iopub.status.busy": "2021-10-07T11:03:24.984022Z",
          "iopub.execute_input": "2021-10-07T11:03:24.984479Z",
          "iopub.status.idle": "2021-10-07T11:03:24.992235Z",
          "shell.execute_reply.started": "2021-10-07T11:03:24.984441Z",
          "shell.execute_reply": "2021-10-07T11:03:24.991200Z"
        },
        "trusted": true,
        "colab": {
          "base_uri": "https://localhost:8080/"
        },
        "id": "aqB7JBbkjEQB",
        "outputId": "23db1a80-aa76-4408-d676-24a56458d764"
      },
      "source": [
        "mean_bmi_no_stroke = df[df['stroke']==0]['bmi'].mean()\n",
        "mean_bmi_no_stroke"
      ],
      "execution_count": 514,
      "outputs": [
        {
          "output_type": "execute_result",
          "data": {
            "text/plain": [
              "28.82443072994256"
            ]
          },
          "metadata": {},
          "execution_count": 514
        }
      ]
    },
    {
      "cell_type": "code",
      "metadata": {
        "execution": {
          "iopub.status.busy": "2021-10-07T11:03:24.993367Z",
          "iopub.execute_input": "2021-10-07T11:03:24.993711Z",
          "iopub.status.idle": "2021-10-07T11:03:25.008340Z",
          "shell.execute_reply.started": "2021-10-07T11:03:24.993682Z",
          "shell.execute_reply": "2021-10-07T11:03:25.007211Z"
        },
        "trusted": true,
        "id": "JmusN0zgjEQD"
      },
      "source": [
        "df.loc[df['stroke']==1,'bmi'] = df.loc[df['stroke']==1, 'bmi'].fillna(mean_bmi_has_stroke)\n",
        "df.loc[df['stroke']==0,'bmi'] = df.loc[df['stroke']==0, 'bmi'].fillna(mean_bmi_no_stroke)"
      ],
      "execution_count": 515,
      "outputs": []
    },
    {
      "cell_type": "code",
      "metadata": {
        "execution": {
          "iopub.status.busy": "2021-10-07T11:03:25.009864Z",
          "iopub.execute_input": "2021-10-07T11:03:25.010172Z",
          "iopub.status.idle": "2021-10-07T11:03:25.042885Z",
          "shell.execute_reply.started": "2021-10-07T11:03:25.010143Z",
          "shell.execute_reply": "2021-10-07T11:03:25.042062Z"
        },
        "trusted": true,
        "colab": {
          "base_uri": "https://localhost:8080/",
          "height": 417
        },
        "id": "-Lxn-LtojEQE",
        "outputId": "7f69c101-3ab5-4b40-86d6-ab026f9937bf"
      },
      "source": [
        "df"
      ],
      "execution_count": 516,
      "outputs": [
        {
          "output_type": "execute_result",
          "data": {
            "text/html": [
              "<div>\n",
              "<style scoped>\n",
              "    .dataframe tbody tr th:only-of-type {\n",
              "        vertical-align: middle;\n",
              "    }\n",
              "\n",
              "    .dataframe tbody tr th {\n",
              "        vertical-align: top;\n",
              "    }\n",
              "\n",
              "    .dataframe thead th {\n",
              "        text-align: right;\n",
              "    }\n",
              "</style>\n",
              "<table border=\"1\" class=\"dataframe\">\n",
              "  <thead>\n",
              "    <tr style=\"text-align: right;\">\n",
              "      <th></th>\n",
              "      <th>id</th>\n",
              "      <th>gender</th>\n",
              "      <th>age</th>\n",
              "      <th>hypertension</th>\n",
              "      <th>heart_disease</th>\n",
              "      <th>ever_married</th>\n",
              "      <th>work_type</th>\n",
              "      <th>Residence_type</th>\n",
              "      <th>avg_glucose_level</th>\n",
              "      <th>bmi</th>\n",
              "      <th>smoking_status</th>\n",
              "      <th>stroke</th>\n",
              "    </tr>\n",
              "  </thead>\n",
              "  <tbody>\n",
              "    <tr>\n",
              "      <th>0</th>\n",
              "      <td>9046</td>\n",
              "      <td>Male</td>\n",
              "      <td>67.0</td>\n",
              "      <td>0</td>\n",
              "      <td>1</td>\n",
              "      <td>Yes</td>\n",
              "      <td>Private</td>\n",
              "      <td>Urban</td>\n",
              "      <td>228.69</td>\n",
              "      <td>36.600000</td>\n",
              "      <td>formerly smoked</td>\n",
              "      <td>1</td>\n",
              "    </tr>\n",
              "    <tr>\n",
              "      <th>1</th>\n",
              "      <td>51676</td>\n",
              "      <td>Female</td>\n",
              "      <td>61.0</td>\n",
              "      <td>0</td>\n",
              "      <td>0</td>\n",
              "      <td>Yes</td>\n",
              "      <td>Self-employed</td>\n",
              "      <td>Rural</td>\n",
              "      <td>202.21</td>\n",
              "      <td>30.471292</td>\n",
              "      <td>never smoked</td>\n",
              "      <td>1</td>\n",
              "    </tr>\n",
              "    <tr>\n",
              "      <th>2</th>\n",
              "      <td>31112</td>\n",
              "      <td>Male</td>\n",
              "      <td>80.0</td>\n",
              "      <td>0</td>\n",
              "      <td>1</td>\n",
              "      <td>Yes</td>\n",
              "      <td>Private</td>\n",
              "      <td>Rural</td>\n",
              "      <td>105.92</td>\n",
              "      <td>32.500000</td>\n",
              "      <td>never smoked</td>\n",
              "      <td>1</td>\n",
              "    </tr>\n",
              "    <tr>\n",
              "      <th>3</th>\n",
              "      <td>60182</td>\n",
              "      <td>Female</td>\n",
              "      <td>49.0</td>\n",
              "      <td>0</td>\n",
              "      <td>0</td>\n",
              "      <td>Yes</td>\n",
              "      <td>Private</td>\n",
              "      <td>Urban</td>\n",
              "      <td>171.23</td>\n",
              "      <td>34.400000</td>\n",
              "      <td>smokes</td>\n",
              "      <td>1</td>\n",
              "    </tr>\n",
              "    <tr>\n",
              "      <th>4</th>\n",
              "      <td>1665</td>\n",
              "      <td>Female</td>\n",
              "      <td>79.0</td>\n",
              "      <td>1</td>\n",
              "      <td>0</td>\n",
              "      <td>Yes</td>\n",
              "      <td>Self-employed</td>\n",
              "      <td>Rural</td>\n",
              "      <td>174.12</td>\n",
              "      <td>24.000000</td>\n",
              "      <td>never smoked</td>\n",
              "      <td>1</td>\n",
              "    </tr>\n",
              "    <tr>\n",
              "      <th>...</th>\n",
              "      <td>...</td>\n",
              "      <td>...</td>\n",
              "      <td>...</td>\n",
              "      <td>...</td>\n",
              "      <td>...</td>\n",
              "      <td>...</td>\n",
              "      <td>...</td>\n",
              "      <td>...</td>\n",
              "      <td>...</td>\n",
              "      <td>...</td>\n",
              "      <td>...</td>\n",
              "      <td>...</td>\n",
              "    </tr>\n",
              "    <tr>\n",
              "      <th>5105</th>\n",
              "      <td>18234</td>\n",
              "      <td>Female</td>\n",
              "      <td>80.0</td>\n",
              "      <td>1</td>\n",
              "      <td>0</td>\n",
              "      <td>Yes</td>\n",
              "      <td>Private</td>\n",
              "      <td>Urban</td>\n",
              "      <td>83.75</td>\n",
              "      <td>28.824431</td>\n",
              "      <td>never smoked</td>\n",
              "      <td>0</td>\n",
              "    </tr>\n",
              "    <tr>\n",
              "      <th>5106</th>\n",
              "      <td>44873</td>\n",
              "      <td>Female</td>\n",
              "      <td>81.0</td>\n",
              "      <td>0</td>\n",
              "      <td>0</td>\n",
              "      <td>Yes</td>\n",
              "      <td>Self-employed</td>\n",
              "      <td>Urban</td>\n",
              "      <td>125.20</td>\n",
              "      <td>40.000000</td>\n",
              "      <td>never smoked</td>\n",
              "      <td>0</td>\n",
              "    </tr>\n",
              "    <tr>\n",
              "      <th>5107</th>\n",
              "      <td>19723</td>\n",
              "      <td>Female</td>\n",
              "      <td>35.0</td>\n",
              "      <td>0</td>\n",
              "      <td>0</td>\n",
              "      <td>Yes</td>\n",
              "      <td>Self-employed</td>\n",
              "      <td>Rural</td>\n",
              "      <td>82.99</td>\n",
              "      <td>30.600000</td>\n",
              "      <td>never smoked</td>\n",
              "      <td>0</td>\n",
              "    </tr>\n",
              "    <tr>\n",
              "      <th>5108</th>\n",
              "      <td>37544</td>\n",
              "      <td>Male</td>\n",
              "      <td>51.0</td>\n",
              "      <td>0</td>\n",
              "      <td>0</td>\n",
              "      <td>Yes</td>\n",
              "      <td>Private</td>\n",
              "      <td>Rural</td>\n",
              "      <td>166.29</td>\n",
              "      <td>25.600000</td>\n",
              "      <td>formerly smoked</td>\n",
              "      <td>0</td>\n",
              "    </tr>\n",
              "    <tr>\n",
              "      <th>5109</th>\n",
              "      <td>44679</td>\n",
              "      <td>Female</td>\n",
              "      <td>44.0</td>\n",
              "      <td>0</td>\n",
              "      <td>0</td>\n",
              "      <td>Yes</td>\n",
              "      <td>Govt_job</td>\n",
              "      <td>Urban</td>\n",
              "      <td>85.28</td>\n",
              "      <td>26.200000</td>\n",
              "      <td>Unknown</td>\n",
              "      <td>0</td>\n",
              "    </tr>\n",
              "  </tbody>\n",
              "</table>\n",
              "<p>5109 rows × 12 columns</p>\n",
              "</div>"
            ],
            "text/plain": [
              "         id  gender   age  ...        bmi   smoking_status stroke\n",
              "0      9046    Male  67.0  ...  36.600000  formerly smoked      1\n",
              "1     51676  Female  61.0  ...  30.471292     never smoked      1\n",
              "2     31112    Male  80.0  ...  32.500000     never smoked      1\n",
              "3     60182  Female  49.0  ...  34.400000           smokes      1\n",
              "4      1665  Female  79.0  ...  24.000000     never smoked      1\n",
              "...     ...     ...   ...  ...        ...              ...    ...\n",
              "5105  18234  Female  80.0  ...  28.824431     never smoked      0\n",
              "5106  44873  Female  81.0  ...  40.000000     never smoked      0\n",
              "5107  19723  Female  35.0  ...  30.600000     never smoked      0\n",
              "5108  37544    Male  51.0  ...  25.600000  formerly smoked      0\n",
              "5109  44679  Female  44.0  ...  26.200000          Unknown      0\n",
              "\n",
              "[5109 rows x 12 columns]"
            ]
          },
          "metadata": {},
          "execution_count": 516
        }
      ]
    },
    {
      "cell_type": "code",
      "metadata": {
        "execution": {
          "iopub.status.busy": "2021-10-07T11:03:25.044453Z",
          "iopub.execute_input": "2021-10-07T11:03:25.044786Z",
          "iopub.status.idle": "2021-10-07T11:03:25.067151Z",
          "shell.execute_reply.started": "2021-10-07T11:03:25.044753Z",
          "shell.execute_reply": "2021-10-07T11:03:25.066167Z"
        },
        "trusted": true,
        "colab": {
          "base_uri": "https://localhost:8080/",
          "height": 110
        },
        "id": "FLd8MudNjEQF",
        "outputId": "36a63a43-a43e-4450-b89d-4cbabd1af6e8"
      },
      "source": [
        "df[['stroke','id']].groupby(['stroke']).count().reset_index()"
      ],
      "execution_count": 517,
      "outputs": [
        {
          "output_type": "execute_result",
          "data": {
            "text/html": [
              "<div>\n",
              "<style scoped>\n",
              "    .dataframe tbody tr th:only-of-type {\n",
              "        vertical-align: middle;\n",
              "    }\n",
              "\n",
              "    .dataframe tbody tr th {\n",
              "        vertical-align: top;\n",
              "    }\n",
              "\n",
              "    .dataframe thead th {\n",
              "        text-align: right;\n",
              "    }\n",
              "</style>\n",
              "<table border=\"1\" class=\"dataframe\">\n",
              "  <thead>\n",
              "    <tr style=\"text-align: right;\">\n",
              "      <th></th>\n",
              "      <th>stroke</th>\n",
              "      <th>id</th>\n",
              "    </tr>\n",
              "  </thead>\n",
              "  <tbody>\n",
              "    <tr>\n",
              "      <th>0</th>\n",
              "      <td>0</td>\n",
              "      <td>4860</td>\n",
              "    </tr>\n",
              "    <tr>\n",
              "      <th>1</th>\n",
              "      <td>1</td>\n",
              "      <td>249</td>\n",
              "    </tr>\n",
              "  </tbody>\n",
              "</table>\n",
              "</div>"
            ],
            "text/plain": [
              "   stroke    id\n",
              "0       0  4860\n",
              "1       1   249"
            ]
          },
          "metadata": {},
          "execution_count": 517
        }
      ]
    },
    {
      "cell_type": "code",
      "metadata": {
        "execution": {
          "iopub.status.busy": "2021-10-07T11:03:25.068727Z",
          "iopub.execute_input": "2021-10-07T11:03:25.069013Z",
          "iopub.status.idle": "2021-10-07T11:03:25.077015Z",
          "shell.execute_reply.started": "2021-10-07T11:03:25.068986Z",
          "shell.execute_reply": "2021-10-07T11:03:25.076018Z"
        },
        "trusted": true,
        "id": "kS5Ph5hxjEQG"
      },
      "source": [
        "df_all = df.copy()\n",
        "\n",
        "df_stroke = df[df['stroke']==1]\n",
        "\n",
        "df_non = df[df['stroke']==0]"
      ],
      "execution_count": 518,
      "outputs": []
    },
    {
      "cell_type": "code",
      "metadata": {
        "execution": {
          "iopub.status.busy": "2021-10-07T11:03:25.078625Z",
          "iopub.execute_input": "2021-10-07T11:03:25.078931Z",
          "iopub.status.idle": "2021-10-07T11:03:25.102672Z",
          "shell.execute_reply.started": "2021-10-07T11:03:25.078903Z",
          "shell.execute_reply": "2021-10-07T11:03:25.101695Z"
        },
        "trusted": true,
        "id": "O3-YmzMMjEQH"
      },
      "source": [
        "def plot_pie(column, title=\"All\"):\n",
        "    fig,axs = plt.subplots(1,1)\n",
        "    data = df_all[column].value_counts()\n",
        "    plt.pie(data,autopct='%1.2f%%',labels=data.index)\n",
        "    plt.title(title)\n",
        "    plt.show()\n",
        "    \n",
        "def plot_hist(column, title=\"all\"):\n",
        "    plt.hist(df_all[column],density=True)\n",
        "    plt.title(title)\n",
        "    plt.show()\n",
        "\n",
        "def plot_bar(column, sort=False, title=\"all\"):\n",
        "    if sort:\n",
        "        data_all = df_all[column].value_counts().sort_index()\n",
        "    else:\n",
        "        data_all = df_all[column].value_counts()\n",
        "    plt.bar(data_all.index,data_all)\n",
        "    plt.title(title)\n",
        "    plt.show()\n",
        "    \n",
        "def plot_bar_compare(column, sort=False):\n",
        "    if sort:\n",
        "        data_churned = df_stroke[column].value_counts().sort_index()\n",
        "        data_nonchurned = df_non[column].value_counts().sort_index()\n",
        "    else:\n",
        "        data_churned = df_stroke[column].value_counts()\n",
        "        data_nonchurned = df_non[column].value_counts()\n",
        "    \n",
        "    fig,axs = plt.subplots(2,1)\n",
        "    plt.subplots_adjust(left=0, bottom=0, right=1, top=2, wspace=0, hspace=0.2)\n",
        "    axs[0].bar(data_nonchurned.index,data_nonchurned)\n",
        "    axs[0].title.set_text('No Stroke')\n",
        "    axs[1].bar(data_churned.index,data_churned)\n",
        "    axs[1].title.set_text('Has Stroke')\n",
        "    plt.show()\n",
        "\n",
        "def plot_hist_compare(column, bins=5):\n",
        "    plt.hist([df_non[column], df_stroke[column]] , color=['c','r'])\n",
        "    plt.legend(('No Stroke', 'Has Stroke'))\n",
        "    plt.show()\n",
        "    \n",
        "def plot_pie_compare(column):\n",
        "    data_churned = df_stroke[column].value_counts()\n",
        "    data_nonchurned = df_non[column].value_counts()\n",
        "    \n",
        "    fig,axs = plt.subplots(2,1)\n",
        "    plt.subplots_adjust(left=0, bottom=0, right=1, top=2, wspace=0, hspace=0.2)\n",
        "    axs[0].pie(data_nonchurned,autopct='%1.2f%%',labels=data_nonchurned.index)\n",
        "    axs[0].title.set_text('No Stroke')\n",
        "    axs[1].pie(data_churned,autopct='%1.2f%%',labels=data_churned.index)\n",
        "    axs[1].title.set_text('Has Stroke')\n",
        "    plt.show()\n",
        "\n",
        "def plot_boxplot(column, title=\"\"):\n",
        "    sns.boxplot(x=\"stroke\", y=column, palette=[\"c\", \"r\"],\n",
        "            hue=\"stroke\",  data=df_all).set_title(title, fontsize=15)\n",
        "\n",
        "def check_median(column):\n",
        "    data_churned = df_stroke[column].describe()\n",
        "    data_nonchurned = df_non[column].describe()\n",
        "    print('No Stroke: {}'.format(data_nonchurned['50%']))\n",
        "    print('Has Stroke: {}'.format(data_churned['50%']))\n",
        "\n",
        "def check_most(column):\n",
        "    data_churned = df_stroke[column].value_counts()\n",
        "    data_nonchurned = df_non[column].value_counts()\n",
        "    print('No Stroke: {}'.format(data_nonchurned.index[0]))\n",
        "    print('Has Stroke: {}'.format(data_churned.index[0]))"
      ],
      "execution_count": 519,
      "outputs": []
    },
    {
      "cell_type": "markdown",
      "metadata": {
        "id": "2uylQl91jEQJ"
      },
      "source": [
        "# Stroke"
      ]
    },
    {
      "cell_type": "code",
      "metadata": {
        "execution": {
          "iopub.status.busy": "2021-10-07T11:03:25.103840Z",
          "iopub.execute_input": "2021-10-07T11:03:25.104290Z",
          "iopub.status.idle": "2021-10-07T11:03:25.246456Z",
          "shell.execute_reply.started": "2021-10-07T11:03:25.104235Z",
          "shell.execute_reply": "2021-10-07T11:03:25.245418Z"
        },
        "trusted": true,
        "colab": {
          "base_uri": "https://localhost:8080/",
          "height": 264
        },
        "id": "-gsWYnqwjEQM",
        "outputId": "e81ff535-1203-4fa4-940e-5a359ca33c38"
      },
      "source": [
        "\n",
        "plot_pie('stroke')"
      ],
      "execution_count": 520,
      "outputs": [
        {
          "output_type": "display_data",
          "data": {
            "image/png": "[encoded data removed]",
            "text/plain": [
              "<Figure size 432x288 with 1 Axes>"
            ]
          },
          "metadata": {}
        }
      ]
    },
    {
      "cell_type": "markdown",
      "metadata": {
        "id": "BJTH_uJmjEQO"
      },
      "source": [
        "# Gender"
      ]
    },
    {
      "cell_type": "code",
      "metadata": {
        "execution": {
          "iopub.status.busy": "2021-10-07T11:03:25.248334Z",
          "iopub.execute_input": "2021-10-07T11:03:25.248769Z",
          "iopub.status.idle": "2021-10-07T11:03:25.488655Z",
          "shell.execute_reply.started": "2021-10-07T11:03:25.248726Z",
          "shell.execute_reply": "2021-10-07T11:03:25.487660Z"
        },
        "trusted": true,
        "colab": {
          "base_uri": "https://localhost:8080/",
          "height": 870
        },
        "id": "RlGsc68WjEQO",
        "outputId": "ee720b1f-05c7-4e5a-f55a-be9f6c5164fb"
      },
      "source": [
        "plot_pie('gender')\n",
        "plot_pie_compare('gender')"
      ],
      "execution_count": 521,
      "outputs": [
        {
          "output_type": "display_data",
          "data": {
            "image/png": "[encoded data removed]",
            "text/plain": [
              "<Figure size 432x288 with 1 Axes>"
            ]
          },
          "metadata": {}
        },
        {
          "output_type": "display_data",
          "data": {
            "image/png": "[encoded data removed]",
            "text/plain": [
              "<Figure size 432x288 with 2 Axes>"
            ]
          },
          "metadata": {}
        }
      ]
    },
    {
      "cell_type": "markdown",
      "metadata": {
        "id": "LfLflMhmjEQP"
      },
      "source": [
        "# Age"
      ]
    },
    {
      "cell_type": "code",
      "metadata": {
        "execution": {
          "iopub.status.busy": "2021-10-07T11:03:25.490401Z",
          "iopub.execute_input": "2021-10-07T11:03:25.490830Z",
          "iopub.status.idle": "2021-10-07T11:03:25.868669Z",
          "shell.execute_reply.started": "2021-10-07T11:03:25.490785Z",
          "shell.execute_reply": "2021-10-07T11:03:25.866956Z"
        },
        "trusted": true,
        "colab": {
          "base_uri": "https://localhost:8080/",
          "height": 529
        },
        "id": "vEpMwKH9jEQP",
        "outputId": "0046456b-a7f1-40b0-cb53-8bfb990c58eb"
      },
      "source": [
        "plot_hist('age')\n",
        "plot_hist_compare('age')"
      ],
      "execution_count": 522,
      "outputs": [
        {
          "output_type": "display_data",
          "data": {
            "image/png": "[encoded data removed]",
            "text/plain": [
              "<Figure size 432x288 with 1 Axes>"
            ]
          },
          "metadata": {
            "needs_background": "light"
          }
        },
        {
          "output_type": "display_data",
          "data": {
            "image/png": "[encoded data removed]",
            "text/plain": [
              "<Figure size 432x288 with 1 Axes>"
            ]
          },
          "metadata": {
            "needs_background": "light"
          }
        }
      ]
    },
    {
      "cell_type": "code",
      "metadata": {
        "execution": {
          "iopub.status.busy": "2021-10-07T11:03:25.870160Z",
          "iopub.execute_input": "2021-10-07T11:03:25.870484Z",
          "iopub.status.idle": "2021-10-07T11:03:25.881615Z",
          "shell.execute_reply.started": "2021-10-07T11:03:25.870455Z",
          "shell.execute_reply": "2021-10-07T11:03:25.880417Z"
        },
        "trusted": true,
        "id": "hg1wb3xIjEQQ",
        "colab": {
          "base_uri": "https://localhost:8080/"
        },
        "outputId": "934a0abe-b2e6-4cb6-ff68-ec76fd5cd3af"
      },
      "source": [
        "check_median('age')"
      ],
      "execution_count": 523,
      "outputs": [
        {
          "output_type": "stream",
          "name": "stdout",
          "text": [
            "No Stroke: 43.0\n",
            "Has Stroke: 71.0\n"
          ]
        }
      ]
    },
    {
      "cell_type": "markdown",
      "metadata": {
        "id": "datXb4MDjEQQ"
      },
      "source": [
        "# hypertension"
      ]
    },
    {
      "cell_type": "code",
      "metadata": {
        "execution": {
          "iopub.status.busy": "2021-10-07T11:03:25.883046Z",
          "iopub.execute_input": "2021-10-07T11:03:25.883436Z",
          "iopub.status.idle": "2021-10-07T11:03:26.139276Z",
          "shell.execute_reply.started": "2021-10-07T11:03:25.883398Z",
          "shell.execute_reply": "2021-10-07T11:03:26.138427Z"
        },
        "trusted": true,
        "colab": {
          "base_uri": "https://localhost:8080/",
          "height": 870
        },
        "id": "v-QjDL3cjEQR",
        "outputId": "ac521a39-f721-4914-8134-205c0dbc2780"
      },
      "source": [
        "plot_pie('hypertension')\n",
        "plot_pie_compare('hypertension')"
      ],
      "execution_count": 524,
      "outputs": [
        {
          "output_type": "display_data",
          "data": {
            "image/png": "[encoded data removed]",
            "text/plain": [
              "<Figure size 432x288 with 1 Axes>"
            ]
          },
          "metadata": {}
        },
        {
          "output_type": "display_data",
          "data": {
            "image/png": "[encoded data removed]",
            "text/plain": [
              "<Figure size 432x288 with 2 Axes>"
            ]
          },
          "metadata": {}
        }
      ]
    },
    {
      "cell_type": "code",
      "metadata": {
        "execution": {
          "iopub.status.busy": "2021-10-07T11:03:26.140847Z",
          "iopub.execute_input": "2021-10-07T11:03:26.141156Z",
          "iopub.status.idle": "2021-10-07T11:03:26.147749Z",
          "shell.execute_reply.started": "2021-10-07T11:03:26.141125Z",
          "shell.execute_reply": "2021-10-07T11:03:26.146796Z"
        },
        "trusted": true,
        "id": "jdjFjvhajEQR",
        "colab": {
          "base_uri": "https://localhost:8080/"
        },
        "outputId": "e6260353-e752-4571-f3d3-a8151e7c3e23"
      },
      "source": [
        "check_most('hypertension')"
      ],
      "execution_count": 525,
      "outputs": [
        {
          "output_type": "stream",
          "name": "stdout",
          "text": [
            "No Stroke: 0\n",
            "Has Stroke: 0\n"
          ]
        }
      ]
    },
    {
      "cell_type": "markdown",
      "metadata": {
        "id": "NqkfZizGjEQR"
      },
      "source": [
        "# heart_disease"
      ]
    },
    {
      "cell_type": "code",
      "metadata": {
        "execution": {
          "iopub.status.busy": "2021-10-07T11:03:26.148878Z",
          "iopub.execute_input": "2021-10-07T11:03:26.149220Z",
          "iopub.status.idle": "2021-10-07T11:03:26.412080Z",
          "shell.execute_reply.started": "2021-10-07T11:03:26.149188Z",
          "shell.execute_reply": "2021-10-07T11:03:26.411074Z"
        },
        "trusted": true,
        "colab": {
          "base_uri": "https://localhost:8080/",
          "height": 870
        },
        "id": "IyrWzwPwjEQS",
        "outputId": "b8f1fbf9-9aab-49cb-85f1-a9c418aed2b8"
      },
      "source": [
        "plot_pie('heart_disease')\n",
        "plot_pie_compare('heart_disease')"
      ],
      "execution_count": 526,
      "outputs": [
        {
          "output_type": "display_data",
          "data": {
            "image/png": "[encoded data removed]",
            "text/plain": [
              "<Figure size 432x288 with 1 Axes>"
            ]
          },
          "metadata": {}
        },
        {
          "output_type": "display_data",
          "data": {
            "image/png": "[encoded data removed]",
            "text/plain": [
              "<Figure size 432x288 with 2 Axes>"
            ]
          },
          "metadata": {}
        }
      ]
    },
    {
      "cell_type": "markdown",
      "metadata": {
        "id": "12dt5BM-jEQS"
      },
      "source": [
        "# ever_married"
      ]
    },
    {
      "cell_type": "code",
      "metadata": {
        "execution": {
          "iopub.status.busy": "2021-10-07T11:03:26.414375Z",
          "iopub.execute_input": "2021-10-07T11:03:26.414813Z",
          "iopub.status.idle": "2021-10-07T11:03:26.666232Z",
          "shell.execute_reply.started": "2021-10-07T11:03:26.414759Z",
          "shell.execute_reply": "2021-10-07T11:03:26.665221Z"
        },
        "trusted": true,
        "colab": {
          "base_uri": "https://localhost:8080/",
          "height": 870
        },
        "id": "pLjam6iWjEQS",
        "outputId": "16c616de-fe53-42de-e2f7-872ed649b232"
      },
      "source": [
        "plot_pie('ever_married')\n",
        "plot_pie_compare('ever_married')"
      ],
      "execution_count": 527,
      "outputs": [
        {
          "output_type": "display_data",
          "data": {
            "image/png": "[encoded data removed]",
            "text/plain": [
              "<Figure size 432x288 with 1 Axes>"
            ]
          },
          "metadata": {}
        },
        {
          "output_type": "display_data",
          "data": {
            "image/png": "[encoded data removed]",
            "text/plain": [
              "<Figure size 432x288 with 2 Axes>"
            ]
          },
          "metadata": {}
        }
      ]
    },
    {
      "cell_type": "code",
      "metadata": {
        "execution": {
          "iopub.status.busy": "2021-10-07T11:03:26.669139Z",
          "iopub.execute_input": "2021-10-07T11:03:26.669460Z",
          "iopub.status.idle": "2021-10-07T11:03:26.677720Z",
          "shell.execute_reply.started": "2021-10-07T11:03:26.669430Z",
          "shell.execute_reply": "2021-10-07T11:03:26.676793Z"
        },
        "trusted": true,
        "colab": {
          "base_uri": "https://localhost:8080/"
        },
        "id": "Mh1ekOb3jEQT",
        "outputId": "2e1f0afb-d38c-4e09-ed7c-8180e091a1f8"
      },
      "source": [
        "check_most('ever_married')"
      ],
      "execution_count": 528,
      "outputs": [
        {
          "output_type": "stream",
          "name": "stdout",
          "text": [
            "No Stroke: Yes\n",
            "Has Stroke: Yes\n"
          ]
        }
      ]
    },
    {
      "cell_type": "markdown",
      "metadata": {
        "id": "l5RMDf1ijEQT"
      },
      "source": [
        "# work_type"
      ]
    },
    {
      "cell_type": "code",
      "metadata": {
        "execution": {
          "iopub.status.busy": "2021-10-07T11:03:26.679038Z",
          "iopub.execute_input": "2021-10-07T11:03:26.679346Z",
          "iopub.status.idle": "2021-10-07T11:03:27.146996Z",
          "shell.execute_reply.started": "2021-10-07T11:03:26.679317Z",
          "shell.execute_reply": "2021-10-07T11:03:27.146054Z"
        },
        "trusted": true,
        "colab": {
          "base_uri": "https://localhost:8080/",
          "height": 870
        },
        "id": "ewl7cI-CjEQT",
        "outputId": "846af44f-0f8d-4e46-ffe1-297aa7a532e8"
      },
      "source": [
        "plot_pie('work_type')\n",
        "plot_pie_compare('work_type')"
      ],
      "execution_count": 529,
      "outputs": [
        {
          "output_type": "display_data",
          "data": {
            "image/png": "[encoded data removed]",
            "text/plain": [
              "<Figure size 432x288 with 1 Axes>"
            ]
          },
          "metadata": {}
        },
        {
          "output_type": "display_data",
          "data": {
            "image/png": "[encoded data removed]",
            "text/plain": [
              "<Figure size 432x288 with 2 Axes>"
            ]
          },
          "metadata": {}
        }
      ]
    },
    {
      "cell_type": "markdown",
      "metadata": {
        "id": "_iqac0EJjEQT"
      },
      "source": [
        "# Residence_type"
      ]
    },
    {
      "cell_type": "code",
      "metadata": {
        "execution": {
          "iopub.status.busy": "2021-10-07T11:03:27.148485Z",
          "iopub.execute_input": "2021-10-07T11:03:27.148791Z",
          "iopub.status.idle": "2021-10-07T11:03:27.393219Z",
          "shell.execute_reply.started": "2021-10-07T11:03:27.148760Z",
          "shell.execute_reply": "2021-10-07T11:03:27.392502Z"
        },
        "trusted": true,
        "colab": {
          "base_uri": "https://localhost:8080/",
          "height": 870
        },
        "id": "2lVNsfSKjEQU",
        "outputId": "5b3f16e1-c5b7-4adc-ff54-81025f218164"
      },
      "source": [
        "plot_pie('Residence_type')\n",
        "plot_pie_compare('Residence_type')"
      ],
      "execution_count": 530,
      "outputs": [
        {
          "output_type": "display_data",
          "data": {
            "image/png": "[encoded data removed]",
            "text/plain": [
              "<Figure size 432x288 with 1 Axes>"
            ]
          },
          "metadata": {}
        },
        {
          "output_type": "display_data",
          "data": {
            "image/png": "[encoded data removed]",
            "text/plain": [
              "<Figure size 432x288 with 2 Axes>"
            ]
          },
          "metadata": {}
        }
      ]
    },
    {
      "cell_type": "markdown",
      "metadata": {
        "id": "rghbEBR2jEQU"
      },
      "source": [
        "# avg_glucose_level"
      ]
    },
    {
      "cell_type": "code",
      "metadata": {
        "execution": {
          "iopub.status.busy": "2021-10-07T11:03:27.394302Z",
          "iopub.execute_input": "2021-10-07T11:03:27.394730Z",
          "iopub.status.idle": "2021-10-07T11:03:27.768133Z",
          "shell.execute_reply.started": "2021-10-07T11:03:27.394688Z",
          "shell.execute_reply": "2021-10-07T11:03:27.767337Z"
        },
        "trusted": true,
        "colab": {
          "base_uri": "https://localhost:8080/",
          "height": 529
        },
        "id": "3jhBC03UjEQU",
        "outputId": "c997503a-4cb2-4b8a-f0ad-c7bbaaa043bd"
      },
      "source": [
        "plot_hist('avg_glucose_level')\n",
        "plot_hist_compare('avg_glucose_level')"
      ],
      "execution_count": 531,
      "outputs": [
        {
          "output_type": "display_data",
          "data": {
            "image/png": "[encoded data removed]",
            "text/plain": [
              "<Figure size 432x288 with 1 Axes>"
            ]
          },
          "metadata": {
            "needs_background": "light"
          }
        },
        {
          "output_type": "display_data",
          "data": {
            "image/png": "[encoded data removed]",
            "text/plain": [
              "<Figure size 432x288 with 1 Axes>"
            ]
          },
          "metadata": {
            "needs_background": "light"
          }
        }
      ]
    },
    {
      "cell_type": "code",
      "metadata": {
        "execution": {
          "iopub.status.busy": "2021-10-07T11:03:27.769293Z",
          "iopub.execute_input": "2021-10-07T11:03:27.769728Z",
          "iopub.status.idle": "2021-10-07T11:03:27.952606Z",
          "shell.execute_reply.started": "2021-10-07T11:03:27.769683Z",
          "shell.execute_reply": "2021-10-07T11:03:27.951385Z"
        },
        "trusted": true,
        "colab": {
          "base_uri": "https://localhost:8080/",
          "height": 279
        },
        "id": "HOO_gFwCjEQU",
        "outputId": "ed2d52fb-169b-49bf-e16b-1f53dc167b14"
      },
      "source": [
        "plot_boxplot('avg_glucose_level')"
      ],
      "execution_count": 532,
      "outputs": [
        {
          "output_type": "display_data",
          "data": {
            "image/png": "[encoded data removed]",
            "text/plain": [
              "<Figure size 432x288 with 1 Axes>"
            ]
          },
          "metadata": {
            "needs_background": "light"
          }
        }
      ]
    },
    {
      "cell_type": "code",
      "metadata": {
        "execution": {
          "iopub.status.busy": "2021-10-07T11:03:27.956080Z",
          "iopub.execute_input": "2021-10-07T11:03:27.956429Z",
          "iopub.status.idle": "2021-10-07T11:03:27.966841Z",
          "shell.execute_reply.started": "2021-10-07T11:03:27.956396Z",
          "shell.execute_reply": "2021-10-07T11:03:27.965658Z"
        },
        "trusted": true,
        "colab": {
          "base_uri": "https://localhost:8080/"
        },
        "id": "7-l1RLUvjEQV",
        "outputId": "906f6b2d-4ecb-4579-d8ed-1a4564ad4a15"
      },
      "source": [
        "check_median('avg_glucose_level')"
      ],
      "execution_count": 533,
      "outputs": [
        {
          "output_type": "stream",
          "name": "stdout",
          "text": [
            "No Stroke: 91.465\n",
            "Has Stroke: 105.22\n"
          ]
        }
      ]
    },
    {
      "cell_type": "markdown",
      "metadata": {
        "id": "ElOhShcJjEQV"
      },
      "source": [
        "# bmi"
      ]
    },
    {
      "cell_type": "code",
      "metadata": {
        "execution": {
          "iopub.status.busy": "2021-10-07T11:03:27.968421Z",
          "iopub.execute_input": "2021-10-07T11:03:27.968841Z",
          "iopub.status.idle": "2021-10-07T11:03:28.311436Z",
          "shell.execute_reply.started": "2021-10-07T11:03:27.968799Z",
          "shell.execute_reply": "2021-10-07T11:03:28.310184Z"
        },
        "trusted": true,
        "colab": {
          "base_uri": "https://localhost:8080/",
          "height": 529
        },
        "id": "EpYcU0QnjEQV",
        "outputId": "96bb8931-f80b-485a-e7a7-f4c96fb3f6c0"
      },
      "source": [
        "plot_hist('bmi')\n",
        "plot_hist_compare('bmi')"
      ],
      "execution_count": 534,
      "outputs": [
        {
          "output_type": "display_data",
          "data": {
            "image/png": "[encoded data removed]",
            "text/plain": [
              "<Figure size 432x288 with 1 Axes>"
            ]
          },
          "metadata": {
            "needs_background": "light"
          }
        },
        {
          "output_type": "display_data",
          "data": {
            "image/png": "[encoded data removed]",
            "text/plain": [
              "<Figure size 432x288 with 1 Axes>"
            ]
          },
          "metadata": {
            "needs_background": "light"
          }
        }
      ]
    },
    {
      "cell_type": "code",
      "metadata": {
        "execution": {
          "iopub.status.busy": "2021-10-07T11:03:28.312930Z",
          "iopub.execute_input": "2021-10-07T11:03:28.313301Z",
          "iopub.status.idle": "2021-10-07T11:03:28.485391Z",
          "shell.execute_reply.started": "2021-10-07T11:03:28.313269Z",
          "shell.execute_reply": "2021-10-07T11:03:28.484359Z"
        },
        "trusted": true,
        "colab": {
          "base_uri": "https://localhost:8080/",
          "height": 279
        },
        "id": "XPLav6pijEQW",
        "outputId": "5e83e2fa-1f93-454a-c39d-ad85b104caef"
      },
      "source": [
        "plot_boxplot('bmi')"
      ],
      "execution_count": 535,
      "outputs": [
        {
          "output_type": "display_data",
          "data": {
            "image/png": "[encoded data removed]",
            "text/plain": [
              "<Figure size 432x288 with 1 Axes>"
            ]
          },
          "metadata": {
            "needs_background": "light"
          }
        }
      ]
    },
    {
      "cell_type": "code",
      "metadata": {
        "execution": {
          "iopub.status.busy": "2021-10-07T11:03:28.486854Z",
          "iopub.execute_input": "2021-10-07T11:03:28.487282Z",
          "iopub.status.idle": "2021-10-07T11:03:28.498602Z",
          "shell.execute_reply.started": "2021-10-07T11:03:28.487222Z",
          "shell.execute_reply": "2021-10-07T11:03:28.497606Z"
        },
        "trusted": true,
        "colab": {
          "base_uri": "https://localhost:8080/"
        },
        "id": "V0cztiG6jEQW",
        "outputId": "6f4e2aba-8be5-472c-da2d-f32f20aa2c0b"
      },
      "source": [
        "check_median('bmi')"
      ],
      "execution_count": 536,
      "outputs": [
        {
          "output_type": "stream",
          "name": "stdout",
          "text": [
            "No Stroke: 28.3\n",
            "Has Stroke: 30.47129186602871\n"
          ]
        }
      ]
    },
    {
      "cell_type": "code",
      "metadata": {
        "colab": {
          "base_uri": "https://localhost:8080/"
        },
        "id": "ldl6uSIY9bVd",
        "outputId": "d14449bd-2e10-462d-d060-e663f50bc231"
      },
      "source": [
        "3255/5109*100"
      ],
      "execution_count": 537,
      "outputs": [
        {
          "output_type": "execute_result",
          "data": {
            "text/plain": [
              "63.711098062243096"
            ]
          },
          "metadata": {},
          "execution_count": 537
        }
      ]
    },
    {
      "cell_type": "markdown",
      "metadata": {
        "id": "AQbUBOXljEQW"
      },
      "source": [
        "# smoking_status"
      ]
    },
    {
      "cell_type": "code",
      "metadata": {
        "execution": {
          "iopub.status.busy": "2021-10-07T11:03:28.500118Z",
          "iopub.execute_input": "2021-10-07T11:03:28.500503Z",
          "iopub.status.idle": "2021-10-07T11:03:28.798217Z",
          "shell.execute_reply.started": "2021-10-07T11:03:28.500472Z",
          "shell.execute_reply": "2021-10-07T11:03:28.797299Z"
        },
        "trusted": true,
        "colab": {
          "base_uri": "https://localhost:8080/",
          "height": 870
        },
        "id": "WcW8dAarjEQW",
        "outputId": "20b5054e-bb16-488a-8588-3fab82a7de50"
      },
      "source": [
        "plot_pie('smoking_status')\n",
        "plot_pie_compare('smoking_status')"
      ],
      "execution_count": 538,
      "outputs": [
        {
          "output_type": "display_data",
          "data": {
            "image/png": "[encoded data removed]",
            "text/plain": [
              "<Figure size 432x288 with 1 Axes>"
            ]
          },
          "metadata": {}
        },
        {
          "output_type": "display_data",
          "data": {
            "image/png": "[encoded data removed]",
            "text/plain": [
              "<Figure size 432x288 with 2 Axes>"
            ]
          },
          "metadata": {}
        }
      ]
    },
    {
      "cell_type": "markdown",
      "metadata": {
        "id": "WMWPGRFcjEQW"
      },
      "source": [
        "### Data Visualization Result\n",
        "\n",
        "| | No Stroke| Has Stroke | Note\n",
        "| :- | :-: | :-: | :-: |\n",
        "| gender (Most) | Female | Female | No Clear Difference\n",
        "| age (Median) | 43 | 71 | the median age of stroke patients is higher than patient with no stroke\n",
        "| hypertension (Most) | 0 | 0 | the patient who has hypertension from stroke patient is 18 % higher than the patient with no stroke\n",
        "| heart_disease (Most) | 0 | 0 | the patient who has heart disease from stroke patient is 14 % higher than the patient with no stroke\n",
        "| ever_married (Most) | Yes | Yes | the patient who ever married from stroke patient is 24 % higher than the patient with no stroke\n",
        "| work_type (Most) | Private | Private | the patient who work as self-employed from stroke patient is 11.4% higher than the patient with no stroke\n",
        "| Residence_type (Most) | Urban | Urban | No Clear Difference\n",
        "| avg_glucose_level (Median) | 91.5 | 105.2 | the median of avg_glucose_level from Stroke Patient is higher than the Patient with no Stroke\n",
        "| bmi (Median) | 28.3 | 30.5 | the median of bmi from Stroke Patient is little higher than the Patient with no Stroke\n",
        "| smoking_status (Most) | never smoked | never smoked | The patient who smokes or formerly smoked from is 13% higher than the patient with no stroke"
      ]
    },
    {
      "cell_type": "markdown",
      "metadata": {
        "id": "WZ-tkpifC6CW"
      },
      "source": [
        "# PREPROCESSING"
      ]
    },
    {
      "cell_type": "code",
      "metadata": {
        "colab": {
          "base_uri": "https://localhost:8080/",
          "height": 203
        },
        "id": "0bgODWrvE9JI",
        "outputId": "3dfef204-3939-41e7-b309-2580afcf33b4"
      },
      "source": [
        "df1.head()\n"
      ],
      "execution_count": 539,
      "outputs": [
        {
          "output_type": "execute_result",
          "data": {
            "text/html": [
              "<div>\n",
              "<style scoped>\n",
              "    .dataframe tbody tr th:only-of-type {\n",
              "        vertical-align: middle;\n",
              "    }\n",
              "\n",
              "    .dataframe tbody tr th {\n",
              "        vertical-align: top;\n",
              "    }\n",
              "\n",
              "    .dataframe thead th {\n",
              "        text-align: right;\n",
              "    }\n",
              "</style>\n",
              "<table border=\"1\" class=\"dataframe\">\n",
              "  <thead>\n",
              "    <tr style=\"text-align: right;\">\n",
              "      <th></th>\n",
              "      <th>id</th>\n",
              "      <th>gender</th>\n",
              "      <th>age</th>\n",
              "      <th>hypertension</th>\n",
              "      <th>heart_disease</th>\n",
              "      <th>ever_married</th>\n",
              "      <th>work_type</th>\n",
              "      <th>Residence_type</th>\n",
              "      <th>avg_glucose_level</th>\n",
              "      <th>bmi</th>\n",
              "      <th>smoking_status</th>\n",
              "      <th>stroke</th>\n",
              "    </tr>\n",
              "  </thead>\n",
              "  <tbody>\n",
              "    <tr>\n",
              "      <th>0</th>\n",
              "      <td>9046</td>\n",
              "      <td>Male</td>\n",
              "      <td>67.0</td>\n",
              "      <td>0</td>\n",
              "      <td>1</td>\n",
              "      <td>Yes</td>\n",
              "      <td>Private</td>\n",
              "      <td>Urban</td>\n",
              "      <td>228.69</td>\n",
              "      <td>36.6</td>\n",
              "      <td>formerly smoked</td>\n",
              "      <td>1</td>\n",
              "    </tr>\n",
              "    <tr>\n",
              "      <th>1</th>\n",
              "      <td>51676</td>\n",
              "      <td>Female</td>\n",
              "      <td>61.0</td>\n",
              "      <td>0</td>\n",
              "      <td>0</td>\n",
              "      <td>Yes</td>\n",
              "      <td>Self-employed</td>\n",
              "      <td>Rural</td>\n",
              "      <td>202.21</td>\n",
              "      <td>NaN</td>\n",
              "      <td>never smoked</td>\n",
              "      <td>1</td>\n",
              "    </tr>\n",
              "    <tr>\n",
              "      <th>2</th>\n",
              "      <td>31112</td>\n",
              "      <td>Male</td>\n",
              "      <td>80.0</td>\n",
              "      <td>0</td>\n",
              "      <td>1</td>\n",
              "      <td>Yes</td>\n",
              "      <td>Private</td>\n",
              "      <td>Rural</td>\n",
              "      <td>105.92</td>\n",
              "      <td>32.5</td>\n",
              "      <td>never smoked</td>\n",
              "      <td>1</td>\n",
              "    </tr>\n",
              "    <tr>\n",
              "      <th>3</th>\n",
              "      <td>60182</td>\n",
              "      <td>Female</td>\n",
              "      <td>49.0</td>\n",
              "      <td>0</td>\n",
              "      <td>0</td>\n",
              "      <td>Yes</td>\n",
              "      <td>Private</td>\n",
              "      <td>Urban</td>\n",
              "      <td>171.23</td>\n",
              "      <td>34.4</td>\n",
              "      <td>smokes</td>\n",
              "      <td>1</td>\n",
              "    </tr>\n",
              "    <tr>\n",
              "      <th>4</th>\n",
              "      <td>1665</td>\n",
              "      <td>Female</td>\n",
              "      <td>79.0</td>\n",
              "      <td>1</td>\n",
              "      <td>0</td>\n",
              "      <td>Yes</td>\n",
              "      <td>Self-employed</td>\n",
              "      <td>Rural</td>\n",
              "      <td>174.12</td>\n",
              "      <td>24.0</td>\n",
              "      <td>never smoked</td>\n",
              "      <td>1</td>\n",
              "    </tr>\n",
              "  </tbody>\n",
              "</table>\n",
              "</div>"
            ],
            "text/plain": [
              "      id  gender   age  ...   bmi   smoking_status stroke\n",
              "0   9046    Male  67.0  ...  36.6  formerly smoked      1\n",
              "1  51676  Female  61.0  ...   NaN     never smoked      1\n",
              "2  31112    Male  80.0  ...  32.5     never smoked      1\n",
              "3  60182  Female  49.0  ...  34.4           smokes      1\n",
              "4   1665  Female  79.0  ...  24.0     never smoked      1\n",
              "\n",
              "[5 rows x 12 columns]"
            ]
          },
          "metadata": {},
          "execution_count": 539
        }
      ]
    },
    {
      "cell_type": "code",
      "metadata": {
        "id": "EWmmDXaZHTLy"
      },
      "source": [
        "def onehot_encode(df, column):\n",
        "  df3 = df.copy()\n",
        "  dummies = pd.get_dummies(df3[column], prefix = column)\n",
        "  df3 = pd.concat([df3,dummies],axis=1)\n",
        "  df3 = df3.drop(column,axis=1)\n",
        "  return df3"
      ],
      "execution_count": 540,
      "outputs": []
    },
    {
      "cell_type": "code",
      "metadata": {
        "id": "gQFrGtYdDGFd"
      },
      "source": [
        "def preprocess_inputs(df):\n",
        "  df = df.copy()\n",
        "  \n",
        "  #drop id\n",
        "  df = df.drop('id',axis=1)\n",
        "\n",
        "  # binary Encoding\n",
        "  df['ever_married'] = df['ever_married'].replace({'No': 0,'Yes':1})\n",
        "  df['Residence_type'] = df['Residence_type'].replace({'Rural': 0,'Urban':1})\n",
        "\n",
        "  #one Hot encoding\n",
        "  for column in ['gender','smoking_status','work_type']:\n",
        "    df = onehot_encode(df,column=column)\n",
        "\n",
        "  # split df into X and y\n",
        "  y = df['stroke']\n",
        "  X = df.drop('stroke',axis = 1)\n",
        "\n",
        "  #train test split\n",
        "  X_train,X_test, y_train, y_test =train_test_split(X,y, train_size = 0.7, shuffle= True, random_state = 1)\n",
        "\n",
        "  # KNN imputation of missing values\n",
        "  imputer = KNNImputer()\n",
        "  imputer.fit(X_train)\n",
        "  X_train = pd.DataFrame(imputer.transform(X_train), index=X_train.index, columns=X_train.columns)\n",
        "  X_test = pd.DataFrame(imputer.transform(X_test), index=X_test.index, columns=X_test.columns)\n",
        "\n",
        "  # Scale\n",
        "  scaler = StandardScaler()\n",
        "  scaler.fit(X_train)\n",
        "  X_train = pd.DataFrame(scaler.transform(X_train), index=X_train.index, columns=X_train.columns)\n",
        "  X_test = pd.DataFrame(scaler.transform(X_test), index=X_test.index, columns=X_test.columns)\n",
        "\n",
        "  return X_train,X_test, y_train, y_test"
      ],
      "execution_count": 541,
      "outputs": []
    },
    {
      "cell_type": "code",
      "metadata": {
        "id": "3qzzIHn4DhDr"
      },
      "source": [
        "X_train,X_test, y_train, y_test = preprocess_inputs(df1)\n"
      ],
      "execution_count": 542,
      "outputs": []
    },
    {
      "cell_type": "code",
      "metadata": {
        "colab": {
          "base_uri": "https://localhost:8080/",
          "height": 454
        },
        "id": "64REkcIFJh64",
        "outputId": "c392b673-f8f6-4737-a766-a794dfcbecf9"
      },
      "source": [
        "X_train"
      ],
      "execution_count": 543,
      "outputs": [
        {
          "output_type": "execute_result",
          "data": {
            "text/html": [
              "<div>\n",
              "<style scoped>\n",
              "    .dataframe tbody tr th:only-of-type {\n",
              "        vertical-align: middle;\n",
              "    }\n",
              "\n",
              "    .dataframe tbody tr th {\n",
              "        vertical-align: top;\n",
              "    }\n",
              "\n",
              "    .dataframe thead th {\n",
              "        text-align: right;\n",
              "    }\n",
              "</style>\n",
              "<table border=\"1\" class=\"dataframe\">\n",
              "  <thead>\n",
              "    <tr style=\"text-align: right;\">\n",
              "      <th></th>\n",
              "      <th>age</th>\n",
              "      <th>hypertension</th>\n",
              "      <th>heart_disease</th>\n",
              "      <th>ever_married</th>\n",
              "      <th>Residence_type</th>\n",
              "      <th>avg_glucose_level</th>\n",
              "      <th>bmi</th>\n",
              "      <th>gender_Female</th>\n",
              "      <th>gender_Male</th>\n",
              "      <th>gender_Other</th>\n",
              "      <th>smoking_status_Unknown</th>\n",
              "      <th>smoking_status_formerly smoked</th>\n",
              "      <th>smoking_status_never smoked</th>\n",
              "      <th>smoking_status_smokes</th>\n",
              "      <th>work_type_Govt_job</th>\n",
              "      <th>work_type_Never_worked</th>\n",
              "      <th>work_type_Private</th>\n",
              "      <th>work_type_Self-employed</th>\n",
              "      <th>work_type_children</th>\n",
              "    </tr>\n",
              "  </thead>\n",
              "  <tbody>\n",
              "    <tr>\n",
              "      <th>4313</th>\n",
              "      <td>0.608843</td>\n",
              "      <td>-0.330374</td>\n",
              "      <td>-0.238161</td>\n",
              "      <td>0.719002</td>\n",
              "      <td>0.994146</td>\n",
              "      <td>0.638258</td>\n",
              "      <td>0.010074</td>\n",
              "      <td>-1.174021</td>\n",
              "      <td>1.174021</td>\n",
              "      <td>0.0</td>\n",
              "      <td>1.515511</td>\n",
              "      <td>-0.461023</td>\n",
              "      <td>-0.763376</td>\n",
              "      <td>-0.425344</td>\n",
              "      <td>-0.383679</td>\n",
              "      <td>-0.069103</td>\n",
              "      <td>0.864050</td>\n",
              "      <td>-0.438105</td>\n",
              "      <td>-0.392264</td>\n",
              "    </tr>\n",
              "    <tr>\n",
              "      <th>376</th>\n",
              "      <td>-1.886989</td>\n",
              "      <td>-0.330374</td>\n",
              "      <td>-0.238161</td>\n",
              "      <td>-1.390817</td>\n",
              "      <td>-1.005888</td>\n",
              "      <td>-0.386663</td>\n",
              "      <td>-1.754554</td>\n",
              "      <td>0.851774</td>\n",
              "      <td>-0.851774</td>\n",
              "      <td>0.0</td>\n",
              "      <td>1.515511</td>\n",
              "      <td>-0.461023</td>\n",
              "      <td>-0.763376</td>\n",
              "      <td>-0.425344</td>\n",
              "      <td>-0.383679</td>\n",
              "      <td>-0.069103</td>\n",
              "      <td>-1.157341</td>\n",
              "      <td>-0.438105</td>\n",
              "      <td>2.549304</td>\n",
              "    </tr>\n",
              "    <tr>\n",
              "      <th>4913</th>\n",
              "      <td>-1.036663</td>\n",
              "      <td>-0.330374</td>\n",
              "      <td>-0.238161</td>\n",
              "      <td>-1.390817</td>\n",
              "      <td>0.994146</td>\n",
              "      <td>-0.466196</td>\n",
              "      <td>-1.105794</td>\n",
              "      <td>-1.174021</td>\n",
              "      <td>1.174021</td>\n",
              "      <td>0.0</td>\n",
              "      <td>-0.659843</td>\n",
              "      <td>-0.461023</td>\n",
              "      <td>1.309970</td>\n",
              "      <td>-0.425344</td>\n",
              "      <td>-0.383679</td>\n",
              "      <td>-0.069103</td>\n",
              "      <td>0.864050</td>\n",
              "      <td>-0.438105</td>\n",
              "      <td>-0.392264</td>\n",
              "    </tr>\n",
              "    <tr>\n",
              "      <th>1791</th>\n",
              "      <td>-1.347974</td>\n",
              "      <td>-0.330374</td>\n",
              "      <td>-0.238161</td>\n",
              "      <td>-1.390817</td>\n",
              "      <td>-1.005888</td>\n",
              "      <td>0.697358</td>\n",
              "      <td>-1.404223</td>\n",
              "      <td>-1.174021</td>\n",
              "      <td>1.174021</td>\n",
              "      <td>0.0</td>\n",
              "      <td>1.515511</td>\n",
              "      <td>-0.461023</td>\n",
              "      <td>-0.763376</td>\n",
              "      <td>-0.425344</td>\n",
              "      <td>-0.383679</td>\n",
              "      <td>-0.069103</td>\n",
              "      <td>-1.157341</td>\n",
              "      <td>-0.438105</td>\n",
              "      <td>2.549304</td>\n",
              "    </tr>\n",
              "    <tr>\n",
              "      <th>2166</th>\n",
              "      <td>-0.680878</td>\n",
              "      <td>-0.330374</td>\n",
              "      <td>-0.238161</td>\n",
              "      <td>0.719002</td>\n",
              "      <td>-1.005888</td>\n",
              "      <td>1.401291</td>\n",
              "      <td>-0.236455</td>\n",
              "      <td>-1.174021</td>\n",
              "      <td>1.174021</td>\n",
              "      <td>0.0</td>\n",
              "      <td>1.515511</td>\n",
              "      <td>-0.461023</td>\n",
              "      <td>-0.763376</td>\n",
              "      <td>-0.425344</td>\n",
              "      <td>-0.383679</td>\n",
              "      <td>-0.069103</td>\n",
              "      <td>0.864050</td>\n",
              "      <td>-0.438105</td>\n",
              "      <td>-0.392264</td>\n",
              "    </tr>\n",
              "    <tr>\n",
              "      <th>...</th>\n",
              "      <td>...</td>\n",
              "      <td>...</td>\n",
              "      <td>...</td>\n",
              "      <td>...</td>\n",
              "      <td>...</td>\n",
              "      <td>...</td>\n",
              "      <td>...</td>\n",
              "      <td>...</td>\n",
              "      <td>...</td>\n",
              "      <td>...</td>\n",
              "      <td>...</td>\n",
              "      <td>...</td>\n",
              "      <td>...</td>\n",
              "      <td>...</td>\n",
              "      <td>...</td>\n",
              "      <td>...</td>\n",
              "      <td>...</td>\n",
              "      <td>...</td>\n",
              "      <td>...</td>\n",
              "    </tr>\n",
              "    <tr>\n",
              "      <th>2895</th>\n",
              "      <td>0.119639</td>\n",
              "      <td>-0.330374</td>\n",
              "      <td>-0.238161</td>\n",
              "      <td>0.719002</td>\n",
              "      <td>0.994146</td>\n",
              "      <td>0.704389</td>\n",
              "      <td>0.036024</td>\n",
              "      <td>-1.174021</td>\n",
              "      <td>1.174021</td>\n",
              "      <td>0.0</td>\n",
              "      <td>-0.659843</td>\n",
              "      <td>-0.461023</td>\n",
              "      <td>1.309970</td>\n",
              "      <td>-0.425344</td>\n",
              "      <td>-0.383679</td>\n",
              "      <td>-0.069103</td>\n",
              "      <td>0.864050</td>\n",
              "      <td>-0.438105</td>\n",
              "      <td>-0.392264</td>\n",
              "    </tr>\n",
              "    <tr>\n",
              "      <th>2763</th>\n",
              "      <td>0.075165</td>\n",
              "      <td>-0.330374</td>\n",
              "      <td>-0.238161</td>\n",
              "      <td>0.719002</td>\n",
              "      <td>-1.005888</td>\n",
              "      <td>-0.922303</td>\n",
              "      <td>0.386355</td>\n",
              "      <td>0.851774</td>\n",
              "      <td>-0.851774</td>\n",
              "      <td>0.0</td>\n",
              "      <td>1.515511</td>\n",
              "      <td>-0.461023</td>\n",
              "      <td>-0.763376</td>\n",
              "      <td>-0.425344</td>\n",
              "      <td>-0.383679</td>\n",
              "      <td>-0.069103</td>\n",
              "      <td>0.864050</td>\n",
              "      <td>-0.438105</td>\n",
              "      <td>-0.392264</td>\n",
              "    </tr>\n",
              "    <tr>\n",
              "      <th>905</th>\n",
              "      <td>-0.547458</td>\n",
              "      <td>-0.330374</td>\n",
              "      <td>-0.238161</td>\n",
              "      <td>0.719002</td>\n",
              "      <td>-1.005888</td>\n",
              "      <td>-0.647013</td>\n",
              "      <td>0.853462</td>\n",
              "      <td>0.851774</td>\n",
              "      <td>-0.851774</td>\n",
              "      <td>0.0</td>\n",
              "      <td>-0.659843</td>\n",
              "      <td>-0.461023</td>\n",
              "      <td>1.309970</td>\n",
              "      <td>-0.425344</td>\n",
              "      <td>-0.383679</td>\n",
              "      <td>-0.069103</td>\n",
              "      <td>0.864050</td>\n",
              "      <td>-0.438105</td>\n",
              "      <td>-0.392264</td>\n",
              "    </tr>\n",
              "    <tr>\n",
              "      <th>3980</th>\n",
              "      <td>0.075165</td>\n",
              "      <td>-0.330374</td>\n",
              "      <td>-0.238161</td>\n",
              "      <td>0.719002</td>\n",
              "      <td>-1.005888</td>\n",
              "      <td>2.469274</td>\n",
              "      <td>3.370652</td>\n",
              "      <td>0.851774</td>\n",
              "      <td>-0.851774</td>\n",
              "      <td>0.0</td>\n",
              "      <td>-0.659843</td>\n",
              "      <td>-0.461023</td>\n",
              "      <td>-0.763376</td>\n",
              "      <td>2.351036</td>\n",
              "      <td>-0.383679</td>\n",
              "      <td>-0.069103</td>\n",
              "      <td>0.864050</td>\n",
              "      <td>-0.438105</td>\n",
              "      <td>-0.392264</td>\n",
              "    </tr>\n",
              "    <tr>\n",
              "      <th>235</th>\n",
              "      <td>1.098047</td>\n",
              "      <td>-0.330374</td>\n",
              "      <td>-0.238161</td>\n",
              "      <td>0.719002</td>\n",
              "      <td>-1.005888</td>\n",
              "      <td>2.314602</td>\n",
              "      <td>1.333545</td>\n",
              "      <td>0.851774</td>\n",
              "      <td>-0.851774</td>\n",
              "      <td>0.0</td>\n",
              "      <td>1.515511</td>\n",
              "      <td>-0.461023</td>\n",
              "      <td>-0.763376</td>\n",
              "      <td>-0.425344</td>\n",
              "      <td>-0.383679</td>\n",
              "      <td>-0.069103</td>\n",
              "      <td>0.864050</td>\n",
              "      <td>-0.438105</td>\n",
              "      <td>-0.392264</td>\n",
              "    </tr>\n",
              "  </tbody>\n",
              "</table>\n",
              "<p>3577 rows × 19 columns</p>\n",
              "</div>"
            ],
            "text/plain": [
              "           age  hypertension  ...  work_type_Self-employed  work_type_children\n",
              "4313  0.608843     -0.330374  ...                -0.438105           -0.392264\n",
              "376  -1.886989     -0.330374  ...                -0.438105            2.549304\n",
              "4913 -1.036663     -0.330374  ...                -0.438105           -0.392264\n",
              "1791 -1.347974     -0.330374  ...                -0.438105            2.549304\n",
              "2166 -0.680878     -0.330374  ...                -0.438105           -0.392264\n",
              "...        ...           ...  ...                      ...                 ...\n",
              "2895  0.119639     -0.330374  ...                -0.438105           -0.392264\n",
              "2763  0.075165     -0.330374  ...                -0.438105           -0.392264\n",
              "905  -0.547458     -0.330374  ...                -0.438105           -0.392264\n",
              "3980  0.075165     -0.330374  ...                -0.438105           -0.392264\n",
              "235   1.098047     -0.330374  ...                -0.438105           -0.392264\n",
              "\n",
              "[3577 rows x 19 columns]"
            ]
          },
          "metadata": {},
          "execution_count": 543
        }
      ]
    },
    {
      "cell_type": "code",
      "metadata": {
        "colab": {
          "base_uri": "https://localhost:8080/"
        },
        "id": "z6I6QYTMD1l4",
        "outputId": "9280e811-fa37-49ee-b330-8a7c7c7c3df2"
      },
      "source": [
        "y_train"
      ],
      "execution_count": 544,
      "outputs": [
        {
          "output_type": "execute_result",
          "data": {
            "text/plain": [
              "4313    0\n",
              "376     0\n",
              "4913    0\n",
              "1791    0\n",
              "2166    0\n",
              "       ..\n",
              "2895    0\n",
              "2763    0\n",
              "905     0\n",
              "3980    0\n",
              "235     1\n",
              "Name: stroke, Length: 3577, dtype: int64"
            ]
          },
          "metadata": {},
          "execution_count": 544
        }
      ]
    },
    {
      "cell_type": "code",
      "metadata": {
        "colab": {
          "base_uri": "https://localhost:8080/"
        },
        "id": "KVDX0sfTFQ6C",
        "outputId": "4f529cbb-5cf0-4aa9-ee28-000981338776"
      },
      "source": [
        "{column: len(X[column].unique()) for column in X.select_dtypes('object').columns}"
      ],
      "execution_count": 545,
      "outputs": [
        {
          "output_type": "execute_result",
          "data": {
            "text/plain": [
              "{}"
            ]
          },
          "metadata": {},
          "execution_count": 545
        }
      ]
    },
    {
      "cell_type": "code",
      "metadata": {
        "id": "HGHUQIDAIQF9",
        "colab": {
          "base_uri": "https://localhost:8080/"
        },
        "outputId": "d021099b-4f6b-4801-f0be-f264cd8500d3"
      },
      "source": [
        "X_train.isna().sum()"
      ],
      "execution_count": 546,
      "outputs": [
        {
          "output_type": "execute_result",
          "data": {
            "text/plain": [
              "age                               0\n",
              "hypertension                      0\n",
              "heart_disease                     0\n",
              "ever_married                      0\n",
              "Residence_type                    0\n",
              "avg_glucose_level                 0\n",
              "bmi                               0\n",
              "gender_Female                     0\n",
              "gender_Male                       0\n",
              "gender_Other                      0\n",
              "smoking_status_Unknown            0\n",
              "smoking_status_formerly smoked    0\n",
              "smoking_status_never smoked       0\n",
              "smoking_status_smokes             0\n",
              "work_type_Govt_job                0\n",
              "work_type_Never_worked            0\n",
              "work_type_Private                 0\n",
              "work_type_Self-employed           0\n",
              "work_type_children                0\n",
              "dtype: int64"
            ]
          },
          "metadata": {},
          "execution_count": 546
        }
      ]
    },
    {
      "cell_type": "code",
      "metadata": {
        "id": "R4ECOnYATbkR"
      },
      "source": [
        "from sklearn.linear_model import LogisticRegression\n",
        "from sklearn.neighbors import KNeighborsClassifier\n",
        "from sklearn.tree import DecisionTreeClassifier\n",
        "from sklearn.svm import LinearSVC, SVC"
      ],
      "execution_count": 547,
      "outputs": []
    },
    {
      "cell_type": "code",
      "metadata": {
        "colab": {
          "base_uri": "https://localhost:8080/"
        },
        "id": "AClxqK-rT-pB",
        "outputId": "13da0b40-0f12-4588-ce07-0e0779cef5de"
      },
      "source": [
        "models = {\n",
        "    \"Logistic Regression\": LogisticRegression(),\n",
        "    \"K-Nearest Neighbors\": KNeighborsClassifier(),\n",
        "    \"Decision Tree\": DecisionTreeClassifier(),\n",
        "    \"SVM Linear kernel\":LinearSVC(),\n",
        "    \"SVM RBF kernel\": SVC()\n",
        "}\n",
        "\n",
        "for name, model in models.items():\n",
        "  model.fit(X_train, y_train)\n",
        "  print(name + \"trained.\")"
      ],
      "execution_count": 548,
      "outputs": [
        {
          "output_type": "stream",
          "name": "stdout",
          "text": [
            "Logistic Regressiontrained.\n",
            "K-Nearest Neighborstrained.\n",
            "Decision Treetrained.\n",
            "SVM Linear kerneltrained.\n",
            "SVM RBF kerneltrained.\n"
          ]
        }
      ]
    },
    {
      "cell_type": "code",
      "metadata": {
        "colab": {
          "base_uri": "https://localhost:8080/"
        },
        "id": "CG3fNBbXVqNP",
        "outputId": "a00fa136-9325-4dcf-ec13-1f4b5c9b0acb"
      },
      "source": [
        "y_train.value_counts()"
      ],
      "execution_count": 549,
      "outputs": [
        {
          "output_type": "execute_result",
          "data": {
            "text/plain": [
              "0    3411\n",
              "1     166\n",
              "Name: stroke, dtype: int64"
            ]
          },
          "metadata": {},
          "execution_count": 549
        }
      ]
    },
    {
      "cell_type": "code",
      "metadata": {
        "colab": {
          "base_uri": "https://localhost:8080/"
        },
        "id": "APp66WnJVrQx",
        "outputId": "d8e998d4-d5b5-46fd-9438-e4738de35d14"
      },
      "source": [
        "print(\"Model Performance\\n-------------------------\")\n",
        "for name, model in models.items():\n",
        "  y_pred = model.predict(X_test)\n",
        "  print(\n",
        "      \"\\n\" + name + \"Accuracy: {:.3f}%\\n\\t\\t\\t\\t         F1-Score: {:.5f}\"\\\n",
        "      .format(accuracy_score(y_test, y_pred)*100, f1_score(y_test, y_pred))\n",
        "  )"
      ],
      "execution_count": 550,
      "outputs": [
        {
          "output_type": "stream",
          "name": "stdout",
          "text": [
            "Model Performance\n",
            "-------------------------\n",
            "\n",
            "Logistic RegressionAccuracy: 94.586%\n",
            "\t\t\t\t         F1-Score: 0.00000\n",
            "\n",
            "K-Nearest NeighborsAccuracy: 94.260%\n",
            "\t\t\t\t         F1-Score: 0.00000\n",
            "\n",
            "Decision TreeAccuracy: 90.476%\n",
            "\t\t\t\t         F1-Score: 0.17978\n",
            "\n",
            "SVM Linear kernelAccuracy: 94.586%\n",
            "\t\t\t\t         F1-Score: 0.00000\n",
            "\n",
            "SVM RBF kernelAccuracy: 94.586%\n",
            "\t\t\t\t         F1-Score: 0.00000\n"
          ]
        }
      ]
    },
    {
      "cell_type": "code",
      "metadata": {
        "colab": {
          "base_uri": "https://localhost:8080/"
        },
        "id": "USBXRcjJXQeS",
        "outputId": "554bd592-1d86-4447-b88c-dc237c57f006"
      },
      "source": [
        "models.values()"
      ],
      "execution_count": 551,
      "outputs": [
        {
          "output_type": "execute_result",
          "data": {
            "text/plain": [
              "dict_values([LogisticRegression(C=1.0, class_weight=None, dual=False, fit_intercept=True,\n",
              "                   intercept_scaling=1, l1_ratio=None, max_iter=100,\n",
              "                   multi_class='auto', n_jobs=None, penalty='l2',\n",
              "                   random_state=None, solver='lbfgs', tol=0.0001, verbose=0,\n",
              "                   warm_start=False), KNeighborsClassifier(algorithm='auto', leaf_size=30, metric='minkowski',\n",
              "                     metric_params=None, n_jobs=None, n_neighbors=5, p=2,\n",
              "                     weights='uniform'), DecisionTreeClassifier(ccp_alpha=0.0, class_weight=None, criterion='gini',\n",
              "                       max_depth=None, max_features=None, max_leaf_nodes=None,\n",
              "                       min_impurity_decrease=0.0, min_impurity_split=None,\n",
              "                       min_samples_leaf=1, min_samples_split=2,\n",
              "                       min_weight_fraction_leaf=0.0, presort='deprecated',\n",
              "                       random_state=None, splitter='best'), LinearSVC(C=1.0, class_weight=None, dual=True, fit_intercept=True,\n",
              "          intercept_scaling=1, loss='squared_hinge', max_iter=1000,\n",
              "          multi_class='ovr', penalty='l2', random_state=None, tol=0.0001,\n",
              "          verbose=0), SVC(C=1.0, break_ties=False, cache_size=200, class_weight=None, coef0=0.0,\n",
              "    decision_function_shape='ovr', degree=3, gamma='scale', kernel='rbf',\n",
              "    max_iter=-1, probability=False, random_state=None, shrinking=True,\n",
              "    tol=0.001, verbose=False)])"
            ]
          },
          "metadata": {},
          "execution_count": 551
        }
      ]
    },
    {
      "cell_type": "code",
      "metadata": {
        "id": "Kddgm_AdXxYE"
      },
      "source": [
        "#handling class imbalance with over sampling - add duplicate values of possitive class 1 in stroke\n"
      ],
      "execution_count": 552,
      "outputs": []
    },
    {
      "cell_type": "code",
      "metadata": {
        "id": "63vkkgqFX7s2"
      },
      "source": [
        "oversampled_data = pd.concat([X_train, y_train], axis = 1)\n",
        "num_samples = y_train.value_counts()[0]-y_train.value_counts()[1]\n",
        "new_samples = oversampled_data.query(\"stroke==1\").sample(num_samples, replace=True, random_state=1)\n",
        "oversampled_data = pd.concat([oversampled_data, new_samples], axis = 0).sample(frac=1.0, random_state=1).reset_index(drop=True)\n",
        "\n",
        "y_train_oversampled = oversampled_data['stroke']\n",
        "X_train_oversampled = oversampled_data.drop('stroke', axis=1)\n"
      ],
      "execution_count": 553,
      "outputs": []
    },
    {
      "cell_type": "code",
      "metadata": {
        "colab": {
          "base_uri": "https://localhost:8080/"
        },
        "id": "QwwYHv99Yv31",
        "outputId": "c301e8fc-70f8-42d0-ee79-c54d905f51d2"
      },
      "source": [
        "y_train_oversampled.value_counts()"
      ],
      "execution_count": 554,
      "outputs": [
        {
          "output_type": "execute_result",
          "data": {
            "text/plain": [
              "1    3411\n",
              "0    3411\n",
              "Name: stroke, dtype: int64"
            ]
          },
          "metadata": {},
          "execution_count": 554
        }
      ]
    },
    {
      "cell_type": "code",
      "metadata": {
        "colab": {
          "base_uri": "https://localhost:8080/"
        },
        "id": "6VkypvsWaff4",
        "outputId": "42df424e-9478-4d7f-b1b0-b3793373f146"
      },
      "source": [
        "oversampled_data['stroke'].value_counts()"
      ],
      "execution_count": 555,
      "outputs": [
        {
          "output_type": "execute_result",
          "data": {
            "text/plain": [
              "1    3411\n",
              "0    3411\n",
              "Name: stroke, dtype: int64"
            ]
          },
          "metadata": {},
          "execution_count": 555
        }
      ]
    },
    {
      "cell_type": "code",
      "metadata": {
        "colab": {
          "base_uri": "https://localhost:8080/"
        },
        "id": "UKh62Tedb6p_",
        "outputId": "298b576f-605e-4be7-b410-41f2ee43ca6b"
      },
      "source": [
        "for name, model in models.items():\n",
        "  model.fit(X_train_oversampled, y_train_oversampled)\n",
        "  print(name + \"trained.\")"
      ],
      "execution_count": 556,
      "outputs": [
        {
          "output_type": "stream",
          "name": "stdout",
          "text": [
            "Logistic Regressiontrained.\n",
            "K-Nearest Neighborstrained.\n",
            "Decision Treetrained.\n",
            "SVM Linear kerneltrained.\n",
            "SVM RBF kerneltrained.\n"
          ]
        }
      ]
    },
    {
      "cell_type": "code",
      "metadata": {
        "colab": {
          "base_uri": "https://localhost:8080/"
        },
        "id": "HhXUJl4yaYTZ",
        "outputId": "3c95b991-a0cd-40d4-bd81-34251dd00dce"
      },
      "source": [
        "print(\"Model Performance\\n-------------------------\")\n",
        "for name, model in models.items():\n",
        "  y_pred = model.predict(X_test)\n",
        "  print(\n",
        "      \"\\n\" + name + \"Accuracy: {:.3f}%\\n\\t\\t\\t\\t         F1-Score: {:.5f}\"\\\n",
        "      .format(accuracy_score(y_test, y_pred)*100, f1_score(y_test, y_pred))\n",
        "  )"
      ],
      "execution_count": 557,
      "outputs": [
        {
          "output_type": "stream",
          "name": "stdout",
          "text": [
            "Model Performance\n",
            "-------------------------\n",
            "\n",
            "Logistic RegressionAccuracy: 73.190%\n",
            "\t\t\t\t         F1-Score: 0.25678\n",
            "\n",
            "K-Nearest NeighborsAccuracy: 85.845%\n",
            "\t\t\t\t         F1-Score: 0.11429\n",
            "\n",
            "Decision TreeAccuracy: 92.042%\n",
            "\t\t\t\t         F1-Score: 0.16438\n",
            "\n",
            "SVM Linear kernelAccuracy: 72.929%\n",
            "\t\t\t\t         F1-Score: 0.25760\n",
            "\n",
            "SVM RBF kernelAccuracy: 78.082%\n",
            "\t\t\t\t         F1-Score: 0.19617\n"
          ]
        }
      ]
    },
    {
      "cell_type": "markdown",
      "metadata": {
        "id": "Hehw3OFmd0Rc"
      },
      "source": [
        "## Conclusion : SvM works well with original data which has less positive target attributes i.e stroke = 1, But as this Data was having less positive target values we have to OVERSAMPLE the positive data to fix the imbalance in data and to improve relevance of data internally i.e to improve f1-score which is like an average of recall and precision. "
      ]
    },
    {
      "cell_type": "code",
      "metadata": {
        "id": "Zxb2wlwQdxHR"
      },
      "source": [
        ""
      ],
      "execution_count": 557,
      "outputs": []
    }
  ]
}